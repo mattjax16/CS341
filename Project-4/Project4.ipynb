{
 "cells": [
  {
   "cell_type": "markdown",
   "metadata": {},
   "source": [
    "# CS341 Project 4: Genetic Algorithms\n",
    "\n",
    "Your first goal is to analyze the performance of several genetic algorithms in the context of parameter-estimation. Your second goal is to analyze the results, i.e. what do we learn about the model? In this project, we are revisiting Goldbeter's 5-state fly clock model, whose parameters were originally chosen \"by hand.\" You will use a cost function which ensures the oscillations in constant darkness have a period of 23.6 hours.\n",
    "\n",
    "There are many, many variants of genetic algorithms. We will be using the following algorithm.\n",
    "\n",
    "<ul>\n",
    "    <li>Create an initial population of $\\lambda$ individuals $G^0$ and generate their costs.\n",
    "    <li>Sort the individuals in $G^0$ by cost (in preparation for selection)\n",
    "    <li>For each generation $g$\n",
    "        <ul>\n",
    "        <li>Take the $eliteCount$ best children from the previous generation $G^{g-1}$ and put them into this generation $G^g$\n",
    "            <li><b>Select</b> the breeding pool $P$ of $\\mu$ individuals from the previous generation.\n",
    "        <li>For i in range($eliteCount$,$\\lambda$)\n",
    "            <ul>\n",
    "            <li>Randomly choose two parents from $P$.\n",
    "            <li>Use <b>cross-over</b> to generate a child $G^g_i$.\n",
    "            <li><b>Mutate</b> the values in $G^g_i$.\n",
    "            <li>Compute the child's cost.\n",
    "            </ul>\n",
    "        <li>Sort the individuals in $G^g$ by cost (in preparation for selection)\n",
    "        </ul>\n",
    "</ul>   \n",
    "\n",
    "The key operators and parameters can be varied:\n",
    "<ul>\n",
    "    <li>Selection can favor fit (low-cost) parents more or less, and always has an aspect of randomness. If we favor low-cost parents more, then the algorithm converges quickly, but it doesn't explore parameter space very well, and could miss a more fit individual. If we favor them less, the algorithm might not find children of increasingly good fitness. Explanations of several selection operators may be found in: Blickle, T. and Thiele, L. 1995. A comparison of selection schemes used in genetic algorithms. Tech. Rep. TIK-Report 11, Swiss Federal Institute of Technology (ETH), Zurich, Switzerland, May.\n",
    "    <li>Crossover is typically \"uniform\" (each element of the child is randomly taken from one of its two parents) or \"single\" (a cross-over point is selected and all elements up to the cross-over point are taken from one parent and the remaining elements are taken from the second parent).\n",
    "    <li>Mutation is typically implemented by choosing a value from a Gaussian distribution centered on each element. One straightforward way to vary the mutation is to vary the width of the distribution. We control the size of the mutation by scaling the width of the Gaussian distribution (it should be $mutationScale\\cdot parameterValue$).\n",
    "    <li>The number of parents $\\mu$ and children $\\lambda$ affects how widely we can sample space. Large numbers of children allow for a broader sampling. The number of parents (the size of the breeding pool) should be a fraction of the number of children (typically, it is a number like 1/5). It works with the selection operator to control how broadly the space is searched and how quickly the algorithm progresses towards a solution. The number of children that you need to use depends upon the problem. It can range from in the tens (e.g. our simple island cost function from class) to thousands.\n",
    "    <li>The number of elite individuals should be small (e.g. 1 to 3). Including elites guarantees that the best-fit individual in generation $g$ will be at least as fit as the best-fit individual in generation $g-1$.\n",
    "    <li>The number of generations should be as big as it needs to be for the best (or average) cost to stop improving. For some problems, thousands of generations are used. Here, we are able to use many fewer (e.g. I used 5 for the simple island cost function in class)\n",
    "</ul>  \n",
    "\n",
    "## Algorithm Performance\n",
    "\n",
    "<ol>\n",
    "<li> Run each algorithm on the fly model at least 5 times for each ``flavor'' for at least 5 generations,  i.e. analyze performance for \n",
    "\t<ol>\n",
    "    <li> a GA with truncation selection, an elite count of 1, 10 parents, 50 children, and a mutation scale of 0.05\n",
    "\t<li> a GA with tournament selection (tournament size = 2), an elite count of 1, 10 parents, 50 children, and a mutation scale of 0.05\n",
    "\t<li> a GA with linear ranking selection, an elite count of 1, 10 parents, 50 children, and a mutation fraction of 0.05\n",
    "    </ol>\n",
    "<li> Report your results in a concise, but informative manner. You will want to identify trends. To do this, quantify the performance of the algorithm. For example, determine the mean population cost for each generation and plot how that changes across generations.\n",
    "</ol>\n",
    "\n",
    "## Implication for Model\n",
    "Using some of your output from above, analyze the effects of different parameters on the model's performance. Below are suggestions to guide your analysis. Follow at least one of them.\n",
    "\n",
    "<ol>\n",
    "<li> How different are the optimization results? i.e. how different are the sets of model parameters (e.g. rate constants and activation thresholds) that are found by different runs of the GA?  \n",
    "<li> You may see different relationships between amplitudes of clock components. Do you see any patterns in this behavior? (e.g. is the peak mRNA concentration always bigger (or always smaller) than the peak P1 concentration?) If so, maybe you can conclude that the relative amplitude is not a property of the model's parameters, but that it is a property of its structure. Make a detailed case for your conclusion.\n",
    "<li> Choose several optimization results and determine whether or not the non-intuitive behavior mentioned in Goldbeter's paper occurs. In his paper, he showed that increasing the rate of Per protein degradation ($v_d$) increases the total PER in the system. Is this true for multiple optimization results (i.e. model parameter sets)?\n",
    "</ol>\n",
    "\n",
    "## Extensions\n",
    "\n",
    "<ul>\n",
    "<li> Implement proportional selection and include analysis of the GA with proportional selection it in your write-up.\n",
    "<li> Include additional analysis with different values of the algorithm's parameters. What happens if the number of children per generation is different? What about increasing or decreasing the mutation fraction?\n",
    "<li> Include simulated annealing in your set of optimization algorithms.\n",
    "<li> Implement a simulated annealing optimization algorithm.\n",
    "<li> Make a hybrid algorithm that uses both a GA (or simulated annealing) and a deterministic method (e.g. a hill-descending method). The idea is that the stochastic algorithms helps you find the right region of parameter space, and that in that region, the cost function will be smooth (and maybe even monotonic). Once we are in a region that is smooth and monotonic, we can use a deterministic optimization method to refine our parameter set to find the local optimum.\n",
    "<li> Include amplitude in the cost function for Goldbeter's model: add a penalty for each state variable whose peak-to-trough amplitude is less than 0.1.\n",
    "<li> Also find parameters for the Gonze/Goodwin oscillator.\n",
    "</ul>\n"
   ]
  },
  {
   "cell_type": "markdown",
   "metadata": {},
   "source": [
    "## Steps to get you started\n",
    "### 1. Cost function for fly clock model\n",
    "\n",
    "To write the cost function for the fly clock model, you will need gol95_model and get_period from project 2. \n",
    "\n",
    "Your cost function should have the signature:\n",
    "<code>\n",
    "def gol95_cost( params ):    \n",
    "</code>\n",
    "\n",
    "where params is the ndarray of parameters used to simulate the model.\n",
    "\n",
    "It should\n",
    "<ul>\n",
    "    <li>Run the simulation with params as the parameters for at least 10 days, so that it is likely to have reached the limit cycle.\n",
    "    <li>Re-run the simulation, beginning with the values from the final time step of the previous simulation.\n",
    "    <li>Compute the period $per$ and the cycle-to-cycle standard deviation of the period $sdper$ by calling get_period.\n",
    "    <li>Compute the cost according to\n",
    "        $\\sqrt{ \\left(\\frac{per-23.6}{23.6}\\right)^2 + \\frac{sdper}{23.6}}$\n",
    "</ul>\n"
   ]
  },
  {
   "cell_type": "code",
   "execution_count": 15,
   "metadata": {},
   "outputs": [],
   "source": [
    "# Write your code here (copy-paste the model and get_period, write gol95_cost)\n",
    "import scipy\n",
    "import numpy as np\n",
    "import matplotlib.pyplot as plt"
   ]
  },
  {
   "cell_type": "code",
   "execution_count": 16,
   "outputs": [],
   "source": [
    "# model\n",
    "def gol_95(t,y,params):\n",
    "    '''\n",
    "\n",
    "    '''\n",
    "\n",
    "    # Unpacking Params(18)\n",
    "    v_s = params[0]\n",
    "    v_m = params[1]\n",
    "    K_m = params[2]\n",
    "    k_s = params[3]\n",
    "    v_d = params[4]\n",
    "    k_1 = params[5]\n",
    "    k_2 = params[6]\n",
    "    K_I = params[7]\n",
    "    K_d = params[8]\n",
    "    n = params[9]\n",
    "    K_1 = params[10]\n",
    "    K_2 = params[11]\n",
    "    K_3 = params[12]\n",
    "    K_4 = params[13]\n",
    "    V_1 = params[14]\n",
    "    V_2 = params[15]\n",
    "    V_3 = params[16]\n",
    "    V_4 = params[17]\n",
    "\n",
    "    #Unpacking Y\n",
    "    M = y[0]\n",
    "    P_0 = y[1]\n",
    "    P_1 = y[2]\n",
    "    P_2 = y[3]\n",
    "    P_N = y[4]\n",
    "\n",
    "    #Calculating the 5 differential equations\n",
    "    dM_dt = v_s * K_I**n/(K_I**n + P_N**n)  -  v_m * M / (K_m + M)\n",
    "    dP_0_dt = k_s * M  -  V_1*P_0/(K_1+P_0)  +  V_2 * P_1/(K_2+P_1)\n",
    "    dP_1_dt =  V_1*P_0/(K_1+P_0) - V_2 * P_1/(K_2+P_1) - V_3 * P_1/(K_3+P_1) + V_4*P_2/(K_4+P_2)\n",
    "    dP_2_dt = V_3 * P_1/(K_3+P_1) - V_4*P_2/(K_4+P_2) - k_1*P_2 + k_2*P_N - v_d * P_2/(K_d+P_2)\n",
    "    dP_N_dt = k_1*P_2 - k_2*P_N\n",
    "\n",
    "    return (dM_dt,dP_0_dt,dP_1_dt,dP_2_dt,dP_N_dt)"
   ],
   "metadata": {
    "collapsed": false
   }
  },
  {
   "cell_type": "code",
   "execution_count": 17,
   "outputs": [],
   "source": [
    "def get_period(t,x):\n",
    "     \"\"\" Approximate the period of a 1-D x, given the time-steps t.\n",
    "         Returns a tuple with the period and the standard deviation of\n",
    "the period over time.\n",
    "         if the value of the standard deviation is not smaller than 0.1,\n",
    "then\n",
    "         it means the period estimate is dodgy and you shouldn't use it.\n",
    "Instead,\n",
    "         plot your simulation and figure out why it isn't periodic -\n",
    "maybe it just\n",
    "         hasn't reached the limit cycle yet.\"\"\"\n",
    "     idxs = scipy.signal.find_peaks(x)\n",
    "     idxs = idxs[0]\n",
    "     times = t[idxs]\n",
    "     periods = np.diff(times)\n",
    "     period = periods.mean()\n",
    "     sdperiod = periods.std()\n",
    "\n",
    "     return (period,sdperiod)"
   ],
   "metadata": {
    "collapsed": false
   }
  },
  {
   "cell_type": "code",
   "execution_count": 18,
   "outputs": [],
   "source": [
    "def gol95_cost( params ):\n",
    "    '''\n",
    "    :param params: the ndarray of parameters used to simulate the gol model. (For gol_95, this is 18 parameters)\n",
    "    :return: the cost of the gol_95 model\n",
    "\n",
    "    This function will:\n",
    "        1. Run the simulation with params as the parameters for at least 10 days,\n",
    "           so that it is likely to have reached the limit cycle.\n",
    "        2. Re-run the simulation, beginning with the values from the final\n",
    "           time step of the previous gol_95 simulation\n",
    "        3. Compute the period and the cycle-to-cycle standard deviation of the period\n",
    "           by calling get_period.\n",
    "        4. Compute the cost with the formula cost = (((period - 23.6)/23.6)^2 + sdperiod/23.26)^0.5\n",
    "    '''\n",
    "\n",
    "    # Run the simulation with params as the parameters for at least 10 days,\n",
    "    # so that it is likely to have reached the limit cycle. (Here each timestep is an hour)\n",
    "\n",
    "    # Initial conditions\n",
    "    M_0 = 1.9\n",
    "    P_0_0 = 0.8\n",
    "    P_1_0 = 0.8\n",
    "    P_2_0 = 0.8\n",
    "    P_N_0 = 0.8\n",
    "    y0 = (M_0,P_0_0,P_1_0,P_2_0,P_N_0)\n",
    "\n",
    "    # Time points\n",
    "    days_to_run = 10\n",
    "    t = np.linspace(0,24*days_to_run,24*days_to_run)\n",
    "\n",
    "    # Run the simulation\n",
    "    sol = scipy.integrate.solve_ivp(lambda t,y: gol_95(t,y,params),[0,24*days_to_run],y0,method='RK45',t_eval=t)\n",
    "\n",
    "    ### TODO Question when is this used\n",
    "    # sol2 = scipy.integrate.odeint(gol_95, y0, t, args=(params,))\n",
    "\n",
    "    # Re-running the simulation, beginning with the values from the final timestep of the previous\n",
    "    # gol_95 simulation\n",
    "    y0 = sol.y[:,-1]\n",
    "    sol = scipy.integrate.solve_ivp(lambda t, y: gol_95(t, y, params), [0, 24 * days_to_run], y0, method='RK45',\n",
    "                                    t_eval=t)\n",
    "\n",
    "    # Computing the period and the cycle-to-cycle standard deviation of the period\n",
    "    period, sdperiod = get_period(sol.t,sol.y[4,:])\n",
    "    cost = (((period - 23.6)/23.6)**2 + sdperiod/23.26)**0.5\n",
    "\n",
    "    return cost"
   ],
   "metadata": {
    "collapsed": false
   }
  },
  {
   "cell_type": "code",
   "execution_count": 19,
   "outputs": [
    {
     "data": {
      "text/plain": "0.14648436521573235"
     },
     "execution_count": 19,
     "metadata": {},
     "output_type": "execute_result"
    }
   ],
   "source": [
    "# Test your cost function here.\n",
    "# When Stephanie tests hers with the parameters from Project 2, her cost is < 0.05\n",
    "\n",
    "# Setting up the gol_95 parameters\n",
    "v_s = 0.76\n",
    "v_m = 0.65\n",
    "K_m = 0.5\n",
    "k_s = 0.38\n",
    "v_d = 0.95\n",
    "k_1 = 1.9\n",
    "k_2 = 1.3\n",
    "K_I = 1\n",
    "K_d = 0.2\n",
    "n = 4\n",
    "K_1 = 2\n",
    "K_2 = 2\n",
    "K_3 = 2\n",
    "K_4 = 2\n",
    "V_1 = 3.2\n",
    "V_2 = 1.58\n",
    "V_3 = 5\n",
    "V_4 = 2.5\n",
    "gol_95_params = (v_s, v_m, K_m, k_s, v_d, k_1, k_2, K_I, K_d, n,\n",
    "                 K_1, K_2, K_3, K_4, V_1, V_2, V_3, V_4)\n",
    "\n",
    "gol95_cost(gol_95_params)\n"
   ],
   "metadata": {
    "collapsed": false
   }
  },
  {
   "cell_type": "markdown",
   "metadata": {},
   "source": [
    "### 2. Selection operator\n",
    "\n",
    "Write your selection operators in this cell, so that you can test them with artificial data. I have included a barebones operator along with test code below. The uniform operator is a useless one, because it applies no selection pressure. The test code has costs ranging from 0.1 to 500 and the uniform operator samples from them all, so the histogram of costs from the breeding pool should indicate a uniform distribution from 0.1 to 500. "
   ]
  },
  {
   "cell_type": "code",
   "execution_count": 20,
   "metadata": {},
   "outputs": [],
   "source": [
    "import matplotlib.pyplot as plt\n",
    "import numpy as np\n",
    "\n",
    "class GASettings:\n",
    "    def __init__( self, numParents = 10, numChildren = 50 ):\n",
    "        self.numParents = numParents;\n",
    "        self.numChildren = numChildren;\n",
    "        self.numGenerations = 5;\n",
    "        self.selection = 'truncation'; \n",
    "        self.slope = 15; # for linear ranking selection\n",
    "        self.tournamentSize = 2;\n",
    "        self.crossover = 'uniform';\n",
    "        self.mutation = 0.05; # std of normal distribution computed as mutation*value\n",
    "        self.eliteCount = 1;\n",
    "\n",
    "\n",
    "def select_pool( G, Gcost, settings ):\n",
    "    \"\"\" Select a breding pool from the previous generation.\n",
    "    G is numChildren x numParameters\n",
    "    Gcost is numChildren long and is sorted in ascending order.\n",
    "    Returns (P,Pcost)\n",
    "    where \n",
    "    P is numParents x numParameters\n",
    "    Pcost is numParents long.\n",
    "    \"\"\"\n",
    "    if Gcost.size != settings.numChildren:\n",
    "        print(\"problem\")\n",
    "        return\n",
    "    P = np.zeros( (settings.numParents,G.shape[1]) )\n",
    "    Pcost = np.zeros( (settings.numParents,) )\n",
    "\n",
    "    if settings.selection == 'uniform':\n",
    "        for i in range(settings.numParents):\n",
    "            idx = np.random.choice(G.shape[0])\n",
    "            P[i,:] = G[idx,:]\n",
    "            Pcost[i] = Gcost[idx]\n",
    "\n",
    "    elif settings.selection == 'truncation':\n",
    "        for i in range(settings.numParents):\n",
    "            idx = np.random.choice(settings.numParents)\n",
    "            P[i,:] = G[idx,:]\n",
    "            Pcost[i] = Gcost[idx]\n",
    "\n",
    "    elif settings.selection == \"linearRanking\":\n",
    "        r = settings.slope\n",
    "        n = settings.numChildren\n",
    "        pn = 2/n*(1/(1+r))\n",
    "        p1 = r*pn\n",
    "        ps = np.zeros((n,))\n",
    "        for i in range(1,n+1):\n",
    "            ps[i-1] = pn + (p1-pn)*(n-i)/(n-1)\n",
    "        cs = ps.cumsum()\n",
    "\n",
    "        for i in range( settings.numParents ):\n",
    "            num = np.random.random() # number between 0 and 1, from uniform distribution\n",
    "            idx = np.argmax( num < cs )\n",
    "            P[i,:] = G[idx,:]\n",
    "            Pcost[i] = Gcost[idx]\n",
    "\n",
    "    elif settings.selection == 'tournament':\n",
    "        for i in range( settings.numParents ):\n",
    "            idxs = np.random.choice(G.shape[0], (settings.tournamentSize,) )\n",
    "            # pick the best one, which is smaller index (since costs sorted)\n",
    "            idx = idxs.min()\n",
    "            P[i,:] = G[idx,:]\n",
    "            Pcost[i] = Gcost[idx]\n",
    "\n",
    "    else:\n",
    "        print( \"Unknown selection operator: \", settings.selection )\n",
    "    return (P, Pcost)\n"
   ]
  },
  {
   "cell_type": "code",
   "execution_count": 21,
   "outputs": [
    {
     "data": {
      "text/plain": "Text(0, 0.5, 'Frequency')"
     },
     "execution_count": 21,
     "metadata": {},
     "output_type": "execute_result"
    },
    {
     "data": {
      "text/plain": "<Figure size 800x400 with 1 Axes>",
      "image/png": "[encoded data removed]"
     },
     "metadata": {},
     "output_type": "display_data"
    },
    {
     "data": {
      "text/plain": "<Figure size 800x400 with 1 Axes>",
      "image/png": "[encoded data removed]"
     },
     "metadata": {},
     "output_type": "display_data"
    },
    {
     "data": {
      "text/plain": "<Figure size 800x400 with 1 Axes>",
      "image/png": "[encoded data removed]"
     },
     "metadata": {},
     "output_type": "display_data"
    }
   ],
   "source": [
    "\n",
    "# Test the selection operators\n",
    "# Make fake parameters, using the index as the values (so we can differentiate them)\n",
    "lam = 10000 # number of individuals in generation\n",
    "mu = 1000 # number of individuals in breeding pool\n",
    "NP = 5 # num of parameters per individual\n",
    "G = np.zeros( (lam,NP) )\n",
    "for i in range(lam):\n",
    "    G[i,:] = i\n",
    "Gcost = np.linspace(0.1,500,lam)\n",
    "settings = GASettings(numParents=mu, numChildren=lam)\n",
    "\n",
    "settings.selection = 'uniform'\n",
    "(P, Pcost) = select_pool(G, Gcost, settings)\n",
    "plt.figure( figsize=(8,4) )\n",
    "plt.hist( Pcost );\n",
    "plt.title( \"Breeding Pool Chosen Uniformly\")\n",
    "plt.xlabel( 'Cost')\n",
    "plt.ylabel('Frequency')\n",
    "\n",
    "settings.selection = 'linearRanking'\n",
    "settings.linearRankingRatio = 4\n",
    "(P, Pcost) = select_pool(G, Gcost, settings)\n",
    "plt.figure( figsize=(8,4) )\n",
    "plt.hist( Pcost );\n",
    "plt.title( \"Breeding Pool Chosen With Linear Ranking Selection (r=4)\")\n",
    "plt.xlabel( 'Cost')\n",
    "plt.ylabel('Frequency')\n",
    "\n",
    "settings.selection = 'linearRanking'\n",
    "settings.linearRankingRatio = 8\n",
    "(P, Pcost) = select_pool(G, Gcost, settings)\n",
    "plt.figure( figsize=(8,4) )\n",
    "plt.hist( Pcost );\n",
    "plt.title( \"Breeding Pool Chosen With Linear Ranking Selection (r=8)\")\n",
    "plt.xlabel( 'Cost')\n",
    "plt.ylabel('Frequency')\n",
    "\n"
   ],
   "metadata": {
    "collapsed": false
   }
  },
  {
   "cell_type": "markdown",
   "metadata": {},
   "source": [
    "### 3. Test cross-over and mutation\n",
    "\n",
    "Stephanie puts cross-over and mutation in a function named generateChild. The input to generateChild is the cost function, the breeding pool, the lower bounds, the upper bounds, and the settings. You can test it by generating an artificial breednig pool, such as one in which the first individual is an array of all 1's, the second is all 2's etc. Then, if you print out the results, which two individuals were chosen, how the cross-over was done and how the mutation worked should be clear."
   ]
  },
  {
   "cell_type": "code",
   "execution_count": 22,
   "metadata": {},
   "outputs": [],
   "source": [
    "# Write your code for testing cross-over and mutation here.\n",
    "# code to generate child\n",
    "def generateChild(cost_fcn, P, lb, ub, settings):\n",
    "    \"\"\"\n",
    "    Generate a viable child (i.e one whos cost function is finite)\n",
    "    and return it and its cost function.\n",
    "    If 1000 tries fails to yield a parent, then an infinite cost\n",
    "    is returned.\n",
    "    Input Parameters:\n",
    "        cost_fcn: handle to the cost function (which should take a candidate as input)\n",
    "        P: parents (lam x NP ndarray of parameter values)\n",
    "        lb: lower bounds for parameters (array of length NP)\n",
    "        ub: upper bounds for parameters (array of length NP)\n",
    "        settings: a GASettings object\n",
    "    Returns:\n",
    "        (params, cost)\n",
    "        where params is the same shape as the lower bounds\n",
    "        and cost is the cost for that set of parameters\n",
    "    \"\"\"\n",
    "\n",
    "    params = np.zeros(lb.shape);\n",
    "    cost   = np.inf;\n",
    "    for i in range(1000):\n",
    "\n",
    "        # Choose two parents from the breeding pool.\n",
    "        P1idx = np.random.choice(P.shape[0]);\n",
    "        P1  = P[P1idx,:];\n",
    "        P2idx = np.random.choice(P.shape[0]);\n",
    "        P2  = P[P2idx,:];\n",
    "\n",
    "        for j in range(lb.size):\n",
    "            # uniform cross-over\n",
    "            if np.random.random() < 0.5:\n",
    "                params[j] = P1[j];\n",
    "            else:\n",
    "                params[j] = P2[j];\n",
    "        # Mutate optimization variables\n",
    "        params = np.multiply( 1+np.random.randn(params.size)*settings.mutation, params);\n",
    "        # Make sure the mutation hasn't moved us out of bounds\n",
    "        params = np.maximum(params,lb);\n",
    "        params = np.minimum(params,ub);\n",
    "\n",
    "        # get the cost\n",
    "        cost   = cost_fcn(params);\n",
    "        if np.isfinite(cost):\n",
    "            return ( params, cost );\n",
    "\n",
    "    return (np.zeros((lb.size)), np.inf)"
   ]
  },
  {
   "cell_type": "markdown",
   "metadata": {},
   "source": [
    "### 4. Write your Genetic Algorithm\n",
    "\n",
    "Write it according to the algorithm above and what we have done in class.\n",
    "\n",
    "Test it with the simple island cost function from class."
   ]
  },
  {
   "cell_type": "code",
   "execution_count": 23,
   "outputs": [],
   "source": [
    "# generateIndividual\n",
    "def generateIndividual(cost_fcn, lb,ub):\n",
    "    '''\n",
    "    Generate a viable individual (i.e one whos cost function is finite)\n",
    "    and return it and its cost.\n",
    "    If 1000 tries fails to yield an individual, then the paramets and an infinite cost\n",
    "    are returned.\n",
    "    Each individual is generated by randomly chosing each entry params[i]\n",
    "    so that lb[i] <= params[i] <= ub[i]\n",
    "    Input:\n",
    "        cost_fcn: handle to the cost function (which should take a candidate as input)\n",
    "        lb: lower bounds for parameters (array of length NP)\n",
    "        ub: upper bounds for parameters (array of length NP)\n",
    "    Returns:\n",
    "        (params, cost)\n",
    "        where params is the same shape as the lower bounds\n",
    "        and cost is the cost for that set of parameters\n",
    "    '''\n",
    "    params = np.zeros(lb.shape);\n",
    "    cost   = np.inf;\n",
    "    for i in range( 1000 ):\n",
    "        params = lb + np.multiply( np.random.random(lb.size), ub-lb);\n",
    "        cost   = cost_fcn(params);\n",
    "        if np.isfinite(cost):\n",
    "            return (params, cost);\n",
    "    return (params, np.inf)\n"
   ],
   "metadata": {
    "collapsed": false
   }
  },
  {
   "cell_type": "code",
   "execution_count": 24,
   "metadata": {},
   "outputs": [],
   "source": [
    "# Your GA code goes here! Copy-paste the simple island cost function from the Jupyter notebook from class.\n",
    "\n",
    "\n",
    "def GA(cost_fcn, lb, ub, settings):\n",
    "    \"\"\" Run the algorithm described in the notes to find a low-cost\n",
    "        population of parameter sets.\n",
    "        Input:\n",
    "            cost_fcn: handle to cost function (should take a paramer set as input)\n",
    "            lb: lower bounds for parameters (numpy array of length NP)\n",
    "            ub: lower bounds for parameters (numpy array of length NP)\n",
    "            settings: GASettings object\n",
    "        Returns\n",
    "            (params, cost, all_params, all_costs)\n",
    "            where\n",
    "            params is a 1xNP vector with the best parameter set found\n",
    "            cost is a scalar with the cost of the best parameter set\n",
    "            all_params is a list with a (settings.numChildren x NP) ndarray of parameters for each generation\n",
    "            all_costs is a list with an NP-length array of costs for each generation\n",
    "    \"\"\"\n",
    "\n",
    "    mu = settings.numParents;\n",
    "    lam = settings.numChildren;\n",
    "    numGenerations = settings.numGenerations;\n",
    "\n",
    "    # Create initial population\n",
    "    G = np.zeros( (lam,lb.size) );\n",
    "    Gcost = np.zeros( (lam,) );\n",
    "    for i in range(lam):\n",
    "        (G[i,:], Gcost[i]) = generateIndividual(cost_fcn, lb, ub);\n",
    "\n",
    "    # sort them by cost\n",
    "    idx   = np.argsort(Gcost);\n",
    "    Gcost = Gcost[idx]\n",
    "    G     = G[idx,:];\n",
    "    all_params = [G]\n",
    "    all_costs = [Gcost]\n",
    "\n",
    "    for g in range(numGenerations):\n",
    "        # Promote any elites\n",
    "        elites = G[:settings.eliteCount,:]\n",
    "        eliteCosts = Gcost[:settings.eliteCount]\n",
    "\n",
    "        # select breeding pool\n",
    "        (P, Pcost) = select_pool( G, Gcost, settings )\n",
    "\n",
    "        # Generate the children for generation g\n",
    "        G = np.zeros((lam, lb.size));\n",
    "        Gcost = np.zeros((lam,));\n",
    "        G[:settings.eliteCount,:] = elites\n",
    "        Gcost[:settings.eliteCount] = eliteCosts\n",
    "        for i in range(settings.eliteCount,lam):\n",
    "           (G[i,:], Gcost[i]) = generateChild(cost_fcn, P, lb, ub, settings);\n",
    "\n",
    "        # sort the children of this generation\n",
    "        idx   = np.argsort(Gcost);\n",
    "        Gcost = Gcost[idx]\n",
    "        G     = G[idx,:];\n",
    "        print('Best of generation ', g+1, ' has cost ', Gcost[0]);\n",
    "        all_params.append(G)\n",
    "        all_costs.append(Gcost)\n",
    "\n",
    "    params = G[0,:];\n",
    "    cost   = Gcost[0];\n",
    "    return (params, cost, all_params, all_costs)"
   ]
  },
  {
   "cell_type": "markdown",
   "metadata": {},
   "source": [
    "### 5. Run your Genetic Algorithm on the Fly Clock Model\n",
    "\n",
    "Below, I supply code that generates the upper and lower bounds for the parameters. The rest is up to you."
   ]
  },
  {
   "cell_type": "code",
   "execution_count": 25,
   "metadata": {},
   "outputs": [],
   "source": [
    "# Code with lower and upper bounds the parameters in Goldbeter's fly clock model.\n",
    "# I put the published values in comments.\n",
    "\n",
    "lb = np.zeros((18,));\n",
    "ub = np.zeros((18,));\n",
    "lb[0] = 0;   ub[0] = 1;# vs = 0.76;\n",
    "lb[1] = 0;   ub[1] = 1;# vm = 0.65;\n",
    "lb[2] = .1;  ub[2] = 1;# Km = 0.5;\n",
    "lb[3] = 0;   ub[3] = 1;# ks = 0.38;\n",
    "lb[4] = 0;   ub[4] = 1;# vd = 0.95;\n",
    "lb[5] = 0;   ub[5] = 2;# k1 = 1.9;\n",
    "lb[6] = 0;   ub[6] = 2;# k2 = 1.3;\n",
    "lb[7] = 1;   ub[7] = 1;# KI = 1;\n",
    "lb[8] = 0.1; ub[8] = 1;# Kd = 0.2;\n",
    "lb[9] = 4;  ub[9] = 4;# n = 4;\n",
    "lb[10] = 0.5;  ub[10] = 2.5;# K1 = 2;\n",
    "lb[11] = 0.5;  ub[11] = 2.5;# K2 = 2;\n",
    "lb[12] = 0.5;  ub[12] = 2.5;# K3 = 2;\n",
    "lb[13] = 0.5;  ub[13] = 2.5;# K4 = 2;\n",
    "lb[14] = 0;  ub[14] = 5;# V1 = 3.2;\n",
    "lb[15] = 0;  ub[15] = 5;# V2 = 1.58;\n",
    "lb[16] = 0;  ub[16] = 5;# V3 = 5;\n",
    "lb[17] = 0;  ub[17] = 5;# V4 = 2.5;\n"
   ]
  },
  {
   "cell_type": "markdown",
   "metadata": {},
   "source": [
    "   ## Begin your project here\n",
    "   \n",
    "  Complete the project (analyzing the algorithm's performance and the parameters output) here. You can add your new selection operators to the code in cells above. Just concentrate main code for the report here.\n"
   ]
  },
  {
   "cell_type": "markdown",
   "source": [
    "### Algorithm Performance\n",
    "\n",
    "#### Algorithm 1:\n",
    "\n",
    "A GA with truncation selection, an elite count of 1, 10 parents, 50 children, and a mutation scale of 0.05"
   ],
   "metadata": {
    "collapsed": false
   }
  },
  {
   "cell_type": "code",
   "execution_count": 28,
   "metadata": {},
   "outputs": [
    {
     "name": "stderr",
     "output_type": "stream",
     "text": [
      "/var/folders/fh/klqyc48n6wg85_j21_wvq8yw0000gn/T/ipykernel_3955/1666051146.py:16: RuntimeWarning: Mean of empty slice.\n",
      "  period = periods.mean()\n"
     ]
    },
    {
     "name": "stdout",
     "output_type": "stream",
     "text": [
      "Best of generation  1  has cost  0.7020069498617119\n",
      "Best of generation  2  has cost  0.7020069498617119\n",
      "Best of generation  3  has cost  0.4905020730338396\n",
      "Best of generation  4  has cost  0.4905020730338396\n",
      "Best of generation  5  has cost  0.4905020730338396\n"
     ]
    }
   ],
   "source": [
    "alg_1 = GASettings(numParents=10, numChildren=50)\n",
    "alg_1.selection = 'truncation'\n",
    "alg_1.eliteCount = 1\n",
    "alg_1.numParents = 10\n",
    "alg_1.numParents = 50\n",
    "alg_1.mutation = 0.05\n",
    "alg_1_results = GA(gol95_cost,lb,ub,alg_1)"
   ]
  },
  {
   "cell_type": "markdown",
   "source": [],
   "metadata": {
    "collapsed": false
   }
  },
  {
   "cell_type": "markdown",
   "source": [
    "#### Algorithm 2:\n",
    "GA with tournament selection (tournament size = 2), an elite count of 1, 10 parents, 50 children, and a mutation scale of 0.05"
   ],
   "metadata": {
    "collapsed": false
   }
  },
  {
   "cell_type": "code",
   "execution_count": 31,
   "outputs": [
    {
     "name": "stderr",
     "output_type": "stream",
     "text": [
      "/var/folders/fh/klqyc48n6wg85_j21_wvq8yw0000gn/T/ipykernel_3955/1666051146.py:16: RuntimeWarning: Mean of empty slice.\n",
      "  period = periods.mean()\n"
     ]
    },
    {
     "name": "stdout",
     "output_type": "stream",
     "text": [
      "Best of generation  1  has cost  0.1704799772319849\n",
      "Best of generation  2  has cost  0.16975298737676167\n",
      "Best of generation  3  has cost  0.1522671222411109\n",
      "Best of generation  4  has cost  0.11933215506980141\n",
      "Best of generation  5  has cost  0.11933215506980141\n"
     ]
    }
   ],
   "source": [
    "alg_2 = GASettings(numParents=10, numChildren=50)\n",
    "alg_2.selection = 'tournament'\n",
    "alg_2.eliteCount = 1\n",
    "alg_2.numParents = 10\n",
    "alg_2.numParents = 50\n",
    "alg_2.mutation = 0.05\n",
    "alg_2_results = GA(gol95_cost,lb,ub,alg_2)"
   ],
   "metadata": {
    "collapsed": false
   }
  },
  {
   "cell_type": "markdown",
   "source": [
    "#### Algorithm 3:\n",
    "GA with linear ranking selection, an elite count of 1, 10 parents, 50 children, and a mutation fraction of 0.05"
   ],
   "metadata": {
    "collapsed": false
   }
  },
  {
   "cell_type": "code",
   "execution_count": 33,
   "outputs": [
    {
     "name": "stderr",
     "output_type": "stream",
     "text": [
      "/var/folders/fh/klqyc48n6wg85_j21_wvq8yw0000gn/T/ipykernel_3955/1666051146.py:16: RuntimeWarning: Mean of empty slice.\n",
      "  period = periods.mean()\n"
     ]
    },
    {
     "name": "stdout",
     "output_type": "stream",
     "text": [
      "Best of generation  1  has cost  0.1614560290027202\n",
      "Best of generation  2  has cost  0.1614560290027202\n",
      "Best of generation  3  has cost  0.11936305716233267\n",
      "Best of generation  4  has cost  0.11936305716233267\n",
      "Best of generation  5  has cost  0.11936305716233267\n"
     ]
    }
   ],
   "source": [
    "alg_3 = GASettings(numParents=10, numChildren=50)\n",
    "alg_3.selection = 'linearRanking'\n",
    "alg_3.eliteCount = 1\n",
    "alg_3.numParents = 10\n",
    "alg_3.numParents = 50\n",
    "alg_3.mutation = 0.05\n",
    "alg_3_results = GA(gol95_cost,lb,ub,alg_3)"
   ],
   "metadata": {
    "collapsed": false
   }
  },
  {
   "cell_type": "markdown",
   "source": [
    "### Analysis of the 3 different Algorithms:\n"
   ],
   "metadata": {
    "collapsed": false
   }
  },
  {
   "cell_type": "code",
   "execution_count": null,
   "outputs": [],
   "source": [
    "# Here we will plot the\n",
    "\n"
   ],
   "metadata": {
    "collapsed": false
   }
  },
  {
   "cell_type": "markdown",
   "metadata": {},
   "source": [
    "<hr style=\"border:2px solid gray\"> </hr>\n",
    "\n",
    "Acknowledgements\n",
    "\n",
    "*Replace this text with links to external resources and thanks to people you worked with.*"
   ]
  },
  {
   "cell_type": "code",
   "execution_count": null,
   "outputs": [],
   "source": [],
   "metadata": {
    "collapsed": false
   }
  }
 ],
 "metadata": {
  "kernelspec": {
   "display_name": "Python 3",
   "language": "python",
   "name": "python3"
  },
  "language_info": {
   "codemirror_mode": {
    "name": "ipython",
    "version": 3
   },
   "file_extension": ".py",
   "mimetype": "text/x-python",
   "name": "python",
   "nbconvert_exporter": "python",
   "pygments_lexer": "ipython3",
   "version": "3.8.5"
  }
 },
 "nbformat": 4,
 "nbformat_minor": 4
}
