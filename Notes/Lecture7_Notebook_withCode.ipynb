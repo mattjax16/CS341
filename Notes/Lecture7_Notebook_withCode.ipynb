{
 "cells": [
  {
   "cell_type": "markdown",
   "metadata": {},
   "source": [
    "## Model a dual activator system with an AND gate\n",
    "\n",
    "There are now two factors X and Y. Both are activators and their effects are multiplied. This means the model's activation function is\n",
    "\n",
    "$\\beta \\frac{x^{H}}{K_{zx}^{H}+x^{H}} \\frac{y^{H}}{K_{zy}^{H}+y^{H}} = \\beta \\frac{(x/K_{zx})^{H}}{1+(x/K_{zx})^{H}} \\frac{(y/K_{zy})^{H}}{1+(y/K_{zy})^{H}}$\n",
    "\n",
    "where $\\beta$ is the maximal rate of transcription of Z, $H$ is the Hill coefficient (using the same value for both expressions, for the sake of simplicity), $K_{zx}$ is the activation threshold for X on Z, $K_{zy}$ is the activation threshold for Y on Z, and now $X$ and $Y$ are both parameters that will change over time.\n",
    "\n",
    "The full model is\n",
    "\n",
    "$\\frac{dZ}{dt} = \\beta \\frac{x^{H}}{K_{zx}^{H}+x^{H}} \\frac{y^{H}}{K_{zy}^{H}+y^{H}} - \\alpha Z$\n",
    "\n",
    "where $\\alpha$ is the degradation rate constant."
   ]
  },
  {
   "cell_type": "code",
   "execution_count": 5,
   "metadata": {},
   "outputs": [],
   "source": [
    "import numpy as np\n",
    "import scipy.integrate\n",
    "import matplotlib.pyplot as plt\n",
    "\n",
    "def dual_activator_AND( t, statevars, params):\n",
    "    Z = statevars[0]\n",
    "    beta = params[0]\n",
    "    H = params[1]\n",
    "    Kzx = params[2]\n",
    "    Kzy = params[3]\n",
    "    alpha = params[4]\n",
    "    X = params[5]\n",
    "    Y = params[6]\n",
    "    \n",
    "    dstatevarsdt = np.zeros( (1,) )\n",
    "    dstatevarsdt[0] = beta * ((X**H)/(Kzx**H+X**H)) * ((Y**H)/(Kzy**H+Y**H)) - alpha*Z\n",
    "    return dstatevarsdt"
   ]
  },
  {
   "cell_type": "markdown",
   "metadata": {},
   "source": [
    "### Simulate the model\n",
    "\n",
    "Use $\\beta=1$, $K_{zx}=0.5$, $H=5$, $K_{zy}=0.5$, and $\\alpha=1$. X should be 0 until t=0.5, and 1 thereafter. Y should be 0 until t=5, and 1 thereafter. \n",
    "\n",
    "Simulate from t=0 to t=20 with a time steps of 0.01."
   ]
  },
  {
   "cell_type": "code",
   "execution_count": 6,
   "metadata": {},
   "outputs": [],
   "source": [
    "# Assign each parameter a name by value\n",
    "beta = 1;\n",
    "Kzy = 0.5;\n",
    "Kzx = 0.5;\n",
    "H = 5;\n",
    "alpha = 1;\n",
    "\n",
    "# Set up parameters so that X is off, and then X is on, and then both X and Y  are on.\n",
    "time_x_on = 0.5\n",
    "time_y_on = 5\n",
    "\n",
    "params_off = (beta, H, Kzx, Kzy, alpha,0,0);\n",
    "params_Xon = (beta, H, Kzx, Kzy, alpha,1,0);\n",
    "params_XYon = (beta, H, Kzx, Kzy, alpha,1,1);\n",
    "\n",
    "# Make versions of the model X,Y off/on pattern\n",
    "mf_off = lambda t,y : dual_activator_AND(t,y, params_off)\n",
    "mf_Xon = lambda t,y : dual_activator_AND(t,y, params_Xon)\n",
    "mf_XYon = lambda t,y : dual_activator_AND(t,y, params_XYon)\n",
    "\n",
    "# Simulate first with X off, then turn X on, then turn both on.\n",
    "sol1 = scipy.integrate.solve_ivp( fun=mf_off, t_span=(0,time_x_on), y0=(0,), \n",
    "                                t_eval=np.arange(0,time_x_on,.01) )\n",
    "sol2 = scipy.integrate.solve_ivp( fun=mf_Xon, t_span=(time_x_on,time_y_on), y0=sol1.y[:,-1], \n",
    "                                t_eval=np.arange(time_x_on,time_y_on,.01) )\n",
    "sol3 = scipy.integrate.solve_ivp( fun=mf_XYon, t_span=(time_y_on,20), y0=sol2.y[:,-1], \n",
    "                                t_eval=np.arange(time_y_on,20,.01) )"
   ]
  },
  {
   "cell_type": "markdown",
   "metadata": {},
   "source": [
    "### Plot the simulation\n",
    "\n",
    "Plot X over time in an upper subplot, Y over time in a middle subplot, and Z over time in a lower subplot."
   ]
  },
  {
   "cell_type": "code",
   "execution_count": 8,
   "metadata": {
    "scrolled": true
   },
   "outputs": [
    {
     "data": {
      "image/png": "[encoded data removed]",
      "text/plain": [
       "<Figure size 432x288 with 3 Axes>"
      ]
     },
     "metadata": {
      "needs_background": "light"
     },
     "output_type": "display_data"
    }
   ],
   "source": [
    "plt.subplot( 3, 1, 1)\n",
    "plt.plot( [sol1.t[0],time_x_on,time_x_on,sol3.t[-1]], [0,0,1,1] )\n",
    "plt.ylabel( \"X\")\n",
    "plt.subplot( 3, 1, 2)\n",
    "plt.plot( [sol1.t[0],time_y_on,time_y_on,sol3.t[-1]], [0,0,1,1] )\n",
    "plt.ylabel( \"Y\")\n",
    "\n",
    "plt.subplot( 3, 1, 3 )\n",
    "plt.plot(sol1.t, sol1.y.T); #Simulation before signal on\n",
    "plt.gca().set_prop_cycle(None) # this resets the color cycle\n",
    "plt.plot(sol2.t, sol2.y.T); #Simulation after X signal on\n",
    "plt.gca().set_prop_cycle(None) # this resets the color cycle\n",
    "plt.plot(sol3.t, sol3.y.T); #Simulation after X and Y signal on\n",
    "plt.xlabel( 'Time')\n",
    "plt.ylabel( \"Z\")\n",
    "plt.tight_layout()"
   ]
  },
  {
   "cell_type": "markdown",
   "metadata": {},
   "source": [
    "## Model a dual activator system with an OR gate\n",
    "\n",
    "There are now two factors X and Y. Both are activators and their effects are combined so that the presence of one or the other can activate transcription, but it is not as simple as just adding them together. This means the model's activation function is\n",
    "\n",
    "$\\beta (\\frac{(X/K_zx)^H}{1+(X/K_zy)^H+(Y/K_zy)^H} + \\frac{(Y/K_zy)^H}{1+(X/K_zy)^H+(Y/K_zy)^H})$\n",
    "\n",
    "where $\\beta$ is the maximal rate of transcription of Z, $H$ is the Hill coefficient (using the same value for both expressions, for the sake of simplicity), $K_{zx}$ is the activation threshold for X on Z, $K_{zy}$ is the activation threshold for Y on Z, and now $X$ and $Y$ are both parameters that will change over time.\n",
    "\n",
    "The full model is\n",
    "\n",
    "$\\frac{dZ}{dt} = \\beta (\\frac{(X/K_zx)^H}{1+(X/K_zy)^H+(Y/K_zy)^H} + \\frac{(Y/K_zy)^H}{1+(X/K_zy)^H+(Y/K_zy)^H}) - \\alpha Z$\n",
    "\n",
    "where $\\alpha$ is the degradation rate constant."
   ]
  },
  {
   "cell_type": "code",
   "execution_count": 9,
   "metadata": {},
   "outputs": [],
   "source": [
    "def dual_activator_OR( t, statevars, params):\n",
    "    Z = statevars[0]\n",
    "    beta = params[0]\n",
    "    H = params[1]\n",
    "    Kzx = params[2]\n",
    "    Kzy = params[3]\n",
    "    alpha = params[4]\n",
    "    X = params[5]\n",
    "    Y = params[6]\n",
    "    \n",
    "    dstatevarsdt = np.zeros( (1,) )\n",
    "    denom = 1 + (X/Kzx)**H + (Y/Kzy)**H\n",
    "    dstatevarsdt[0] = beta * ((X/Kzx)**H/denom + (Y/Kzy)**H/denom) - alpha*Z\n",
    "    return dstatevarsdt"
   ]
  },
  {
   "cell_type": "markdown",
   "metadata": {},
   "source": [
    "### Simulate the model\n",
    "\n",
    "Use $\\beta=1$, $K_{zx}=0.5$, $H=5$, $K_{zy}=0.5$, and $\\alpha=1$. X should be 0 until t=0.5, and 1 thereafter. Y should be 0 until t=5, and 1 thereafter. \n",
    "\n",
    "Simulate from t=0 to t=20 with a time steps of 0.01."
   ]
  },
  {
   "cell_type": "code",
   "execution_count": 10,
   "metadata": {},
   "outputs": [],
   "source": [
    "# Assign each parameter a name by value\n",
    "beta = 1;\n",
    "Kzy = 0.5;\n",
    "Kzx = 0.5;\n",
    "H = 5;\n",
    "alpha = 1;\n",
    "\n",
    "# Set up parameters so that X is off, and then X is on, and then both X and Y  are on.\n",
    "time_x_on = 0.5\n",
    "time_y_on = 5\n",
    "\n",
    "params_off = (beta, H, Kzx, Kzy, alpha,0,0);\n",
    "params_Xon = (beta, H, Kzx, Kzy, alpha,1,0);\n",
    "params_XYon = (beta, H, Kzx, Kzy, alpha,1,1);\n",
    "\n",
    "# Make versions of the model X,Y off/on pattern\n",
    "mf_off = lambda t,y : dual_activator_OR(t,y, params_off)\n",
    "mf_Xon = lambda t,y : dual_activator_OR(t,y, params_Xon)\n",
    "mf_XYon = lambda t,y : dual_activator_OR(t,y, params_XYon)\n",
    "\n",
    "# Simulate first with X off, then turn X on, then turn both on.\n",
    "sol1 = scipy.integrate.solve_ivp( fun=mf_off, t_span=(0,time_x_on), y0=(0,), \n",
    "                                t_eval=np.arange(0,time_x_on,.01) )\n",
    "sol2 = scipy.integrate.solve_ivp( fun=mf_Xon, t_span=(time_x_on,time_y_on), y0=sol1.y[:,-1], \n",
    "                                t_eval=np.arange(time_x_on,time_y_on,.01) )\n",
    "sol3 = scipy.integrate.solve_ivp( fun=mf_XYon, t_span=(time_y_on,20), y0=sol2.y[:,-1], \n",
    "                                t_eval=np.arange(time_y_on,20,.01) )"
   ]
  },
  {
   "cell_type": "markdown",
   "metadata": {},
   "source": [
    "### Plot the simulation\n",
    "\n",
    "Plot X over time in an upper subplot, Y over time in a middle subplot, and Z over time in a lower subplot."
   ]
  },
  {
   "cell_type": "code",
   "execution_count": 11,
   "metadata": {},
   "outputs": [
    {
     "data": {
      "image/png": "[encoded data removed]",
      "text/plain": [
       "<Figure size 432x288 with 3 Axes>"
      ]
     },
     "metadata": {
      "needs_background": "light"
     },
     "output_type": "display_data"
    }
   ],
   "source": [
    "plt.subplot( 3, 1, 1)\n",
    "plt.plot( [sol1.t[0],time_x_on,time_x_on,sol3.t[-1]], [0,0,1,1] )\n",
    "plt.ylabel( \"X\")\n",
    "plt.subplot( 3, 1, 2)\n",
    "plt.plot( [sol1.t[0],time_y_on,time_y_on,sol3.t[-1]], [0,0,1,1] )\n",
    "plt.ylabel( \"Y\")\n",
    "\n",
    "plt.subplot( 3, 1, 3 )\n",
    "plt.plot(sol1.t, sol1.y.T); #Simulation before signal on\n",
    "plt.gca().set_prop_cycle(None) # this resets the color cycle\n",
    "plt.plot(sol2.t, sol2.y.T); #Simulation after X signal on\n",
    "plt.gca().set_prop_cycle(None) # this resets the color cycle\n",
    "plt.plot(sol3.t, sol3.y.T); #Simulation after X and Y signal on\n",
    "plt.xlabel( 'Time')\n",
    "plt.ylabel( \"Z\")\n",
    "plt.tight_layout()"
   ]
  }
 ],
 "metadata": {
  "kernelspec": {
   "display_name": "Python 3",
   "language": "python",
   "name": "python3"
  },
  "language_info": {
   "codemirror_mode": {
    "name": "ipython",
    "version": 3
   },
   "file_extension": ".py",
   "mimetype": "text/x-python",
   "name": "python",
   "nbconvert_exporter": "python",
   "pygments_lexer": "ipython3",
   "version": "3.8.5"
  }
 },
 "nbformat": 4,
 "nbformat_minor": 4
}
