{
 "cells": [
  {
   "cell_type": "markdown",
   "metadata": {},
   "source": [
    "## Introduction\n",
    "\n",
    "Your goal is to assess the trade-offs of stability, accuracy, and run-time of a least two methods applied to two ODE systems. \n",
    "\n",
    "The first ODE system is two proteins degrading. The ODEs are:\n",
    "\n",
    "\\begin{align*}\n",
    "\\frac{dy_1}{dt}&=&-\\alpha y_1\\\\\n",
    "\\frac{dy_2}{dt}&=&-\\beta y_2\\\\\n",
    "\\end{align*}\n",
    "\n",
    "where $\\alpha=0.1$ and $\\beta=0.2$.\n",
    "\n",
    "The second ODE system is the Lotka-Volterra model of predator-prey populations and their interactions. You can check out the Wikipedia entry to learn more, but what you need to know here is that it is a 2-ODE system and that, with the right parameter values, it leads to oscillations. The ODEs are:\n",
    "\n",
    "\\begin{align*}\n",
    "\\frac{dx}{dt} &= \\alpha x -\\beta x y\\\\\n",
    "\\frac{dy}{dt} &= -\\gamma y + \\delta x y\\\\\n",
    "\\end{align*}\n",
    "\n",
    "where $\\alpha=0.25$, $\\beta=0.01$, $\\gamma=1$, and $\\delta=0.01$.\n",
    "\n",
    "\n",
    "## The Project\n",
    "\n",
    "Consider three methods -- the forward Euler method, the explicit trapezoidal method, and an adaptive step-size forward Euler method (that uses the trapezoidal method to estimate the local error).\n",
    "\n",
    "Compare the performance of each of your three methods on the degradation and predator-prey systems.  In your analysis, you will want to consider both runtime (we want our answer as quickly as possible) and accuracy (how close is the method to the \"true\" solution?). For the first two methods, be sure to consider the effect of step-size on accuracy and speed. For the third, be sure to analyze the step-sizes chosen and the effect of error tolerance on the step size. The ideal graph plots accuracy versus runtime for different methods used to solve the same model (one line for each method, one step-size for each point on the line, where the step-size for the adaptive method is the average step-size chosen by the method).\n",
    "\n",
    "\n",
    "## Extensions\n",
    "\n",
    "This project will be more interesting if you tackle one or more of these extensions.  Feel free to develop your own extension. And, as always, a particularly thorough analysis is smiled upon.\n",
    "\n",
    "<ul>\n",
    "<li> Analyze the van der Pol oscillator in addition to the models above. The equations for it are:\n",
    "\\begin{align*}\n",
    "\\frac{dy_1}{dt} &= y_2\\\\\n",
    "\\frac{dy_2}{dt} &= \\mu (1-y_1^2)y_2 - y_1.\\\\\n",
    "\\end{align*}\n",
    "When $\\mu=50$, the period of oscillation is long (nearly 80) and the system is stiff. When $\\mu=1$, the period is short (approximately 6) and the system is not stiff. We expect implicit methods to perform better on the stiff system. Demonstrate that it is better to use the implicit method when $\\mu=50$, but that explicit methods are perfectly adequate when $\\mu=1$.\n",
    "<li> Implement additional explicit Runge-Kutta methods. In particular, it would be nice to see the results of a fourth order method.\n",
    "<li> Implement Adams-Bashforth method (this should be covered in Lecture 15).\n",
    "<li> Implement the Backward Euler method and compare its results to those of your other methods. (Note that backward euler is an implicit method, which means the solution at the new time step appears on both sides of the equation and, therefore, requires additional computation. For example, you will need to use Newton's method to approximately solve a nonlinear system of algebraic equations. If you chose to use Backward Euler, consult Stephanie before writing code.)\n",
    "\n",
    "</ul>\n",
    "\n",
    "## Notes\n",
    "\n",
    "### Timing\n",
    "To time your method, use the <a href=\"https://ipython.readthedocs.io/en/stable/interactive/magics.html#magic-timeit\">%timeit</a> magic command. You use it either for a single line of code, e.g.   \n",
    "\n",
    "<code>\n",
    "%timeit (t,y) = forwardEuler( protein_degradation, np.arange(0,50,0.01), np.array([1,1]), params)\n",
    "</code>\n",
    "\n",
    "or to time an entire cell, e.g.\n",
    "<code>\n",
    "%%timeit\n",
    "(t,y) = forwardEuler( protein_degradation, np.arange(0,50,0.01), np.array([1,1]), params)   \n",
    "</code>\n",
    "\n",
    "If you use it in cell mode, then be sure to put just the solving code in the cell. Put any plotting code in a different cell. \n",
    "\n",
    "Regardless of which mode you use, you probably need to rerun the solving code before you do so. Stephanie has found that timeit doesn't actually do the assignment into (t,y) the way she was expecting it to. The safest thing to do is use a cell for just timing, and then a cell for re-running and plotting.\n",
    "\n",
    "### Accuracy\n",
    "To compute the accuracy of your method, compare its output to the output of scipy.integrate.solve_ivp (which will stand in for the \"true solution\"). Set its relative tolerance so that it is \"tight\" (i.e. you will tolerate very little error; rtol=1e-8).  Error calculations should be performed by comparing the solutions to $y$ at the same time steps, but you will likely be comparing the true solution to outputs from methods using lots of different time steps. The easiest way to handle this is to call scipy.integrate.solve_ivp for each unique set of timesteps you have. For example, when you use the adaptive step size function, you do not know ahead of time which timesteps you will have, so run that first, and use the output to set the t_eval parameter for solve_ivp:\n",
    "<code>\n",
    "(t,y,steps) = forwardEulerAdaptiveStepSize( protein_degradation, 0, 50, \n",
    "    np.array([1,1]), params, 1e-4)\n",
    "sol = scipy.integrate.solve_ivp(fun=protein_degradation, t_span=(0,50), y0=(1,1), \n",
    "                                method='LSODA', t_eval=t, args=[params], rtol=1e-8, atol=1e-8 )\n",
    "</code>\n",
    "    \n",
    "To compute the error, use one of the methods we described in Lecture 12 (first, compute the error at each time point, then summarize it over time)."
   ]
  },
  {
   "cell_type": "markdown",
   "metadata": {},
   "source": [
    "# Systems Functions:\n",
    "\n",
    "To start lets create functions to model the systems:"
   ]
  },
  {
   "cell_type": "markdown",
   "source": [
    "\n",
    "## System 1: (protein degradation)\n",
    "Starting with the first ODE system which is two proteins degrading we can\n",
    "use this function below:"
   ],
   "metadata": {
    "collapsed": false
   }
  },
  {
   "cell_type": "code",
   "execution_count": 1,
   "outputs": [],
   "source": [
    "import numpy as np\n",
    "import scipy.integrate\n",
    "import matplotlib.pyplot as plt\n",
    "\n",
    "def protein_degradation( t, y, params):\n",
    "    '''\n",
    "\n",
    "    :param t:\n",
    "    :param y:\n",
    "    :param params:\n",
    "    :return:\n",
    "    '''\n",
    "    dy1_dt = -params[0] * y[0];\n",
    "    dy2_dt = -params[1] * y[1];\n",
    "\n",
    "    return np.array((dy1_dt,dy2_dt))"
   ],
   "metadata": {
    "collapsed": false
   }
  },
  {
   "cell_type": "markdown",
   "metadata": {},
   "source": [
    "## System 2: (Lotka-Volterra)\n",
    "Then for the Lotka Volterra , predator-prey model, we can use this function to represent the change in the predators and prey as represented below:"
   ]
  },
  {
   "cell_type": "code",
   "execution_count": 2,
   "outputs": [],
   "source": [
    "def predator_prey(t, y, params):\n",
    "    '''\n",
    "\n",
    "    :param t:\n",
    "    :param y:\n",
    "    :param params:\n",
    "    :return:\n",
    "    '''\n",
    "    dx_dt = params[0,0] * y[0] - params[0,1] * y[0] * y[1]\n",
    "    dy_dt = -params[1,0] * y[1] + params[1,1] * y[0] * y[1]\n",
    "\n",
    "    return np.array((dx_dt,dy_dt))\n"
   ],
   "metadata": {
    "collapsed": false
   }
  },
  {
   "cell_type": "markdown",
   "metadata": {},
   "source": [
    "# Methods of Simualtion:\n",
    "\n",
    "Here we will test different method of simulating these models:\n",
    "\n",
    "### Forward Eurler Method"
   ]
  },
  {
   "cell_type": "code",
   "execution_count": 3,
   "metadata": {},
   "outputs": [],
   "source": [
    "def forwardEuler( fn, t, y0, params ):\n",
    "    \"\"\" [t,y] = forwardEuler( fn, t, y0, params )\n",
    "    Given a function handle fn for dydt, find the value of\n",
    "    y at timepoints t, given y(0) = y0.\n",
    "    fn takes t, y, and params as input.\n",
    "    t is 1-dimensional (NT,)\n",
    "    y0 is 2-dimensional (NY,NT)\n",
    "    \"\"\"\n",
    "    y = np.zeros( (y0.size,t.size) )\n",
    "    y[:,0] = y0;\n",
    "    for i in range(1,t.size):\n",
    "        h = t[i]-t[i-1];\n",
    "        yprime = fn(t[i-1],y[:,i-1],params);\n",
    "        y[:,i] = y[:,i-1] + h*yprime;\n",
    "\n",
    "    return (t,y)"
   ]
  },
  {
   "cell_type": "markdown",
   "source": [
    "### Explicit Trapezoidal Method\n"
   ],
   "metadata": {
    "collapsed": false
   }
  },
  {
   "cell_type": "code",
   "execution_count": null,
   "outputs": [],
   "source": [
    "def explicit_trap()"
   ],
   "metadata": {
    "collapsed": false
   }
  },
  {
   "cell_type": "markdown",
   "source": [
    "### Forward Euler Adaptive Step Size"
   ],
   "metadata": {
    "collapsed": false
   }
  },
  {
   "cell_type": "code",
   "execution_count": null,
   "outputs": [],
   "source": [
    "def forwardEulerAdaptiveStepSize(f,t0,tFinal,y0,params,ETOL):\n",
    "    \"\"\"\n",
    "                  Runge-Kutta Method of Order 1 (Forward Euler) embedded\n",
    "                       in Runge-Kutta Method of Order 2 (Trapezoidal)\n",
    "    Performs Forward Euler method of integration\n",
    "    for O.D.E's, using an error estimate (assuming an embedded order 2 method is\n",
    "    the true solution) to control the step-size.\n",
    "    [t,y,h] = forwardEulerAdaptiveStepSize(f,h,t0,tFinal,y0)\n",
    "      f : function handle for f(t,y) = y'\n",
    "          (where f has signature y = f(t,y,params) with\n",
    "               t as a scalar\n",
    "               y is a column vector with the same length as y0\n",
    "               params is a vector with the parameters)\n",
    "      t0     : initial time\n",
    "      tFinal : final time\n",
    "      y0     : initial conditions\n",
    "      params : model parameters\n",
    "      ETOL   : maximum error tolerated. The step size will be chosen to guarantee\n",
    "               that the estimated error is smaller than ETOL.\n",
    "    Return values:\n",
    "      t      : the entire series of time steps\n",
    "      y      : the series of values of y at each time step\n",
    "               (has dimensions length(y0) by length(t))\n",
    "      steps  : the set of step-sizes taken internally\n",
    "      \"\"\"\n",
    "    if tFinal <= t0:\n",
    "        print(['Error - the final time is before the initial time']);\n",
    "        return;\n",
    "    t = [t0];\n",
    "    steps = [];\n",
    "    h = (tFinal-t0)/100;\n",
    "    # start with y as a list of nparrays.\n",
    "    y = [np.array(y0)]; # list of 1st order solutions\n",
    "    while t[-1] < tFinal:\n",
    "        Yi = y[-1];\n",
    "        YFE = Yi + h * f(t[0],Yi,params);\n",
    "        YET = Yi + h/2 * f(t[-1],Yi,params) + h/2 * f(t[-1]+h,YFE,params);\n",
    "        err = np.linalg.norm(YET-YFE,2);\n",
    "        if err <= ETOL:\n",
    "            # The step size was small enough.  Record this\n",
    "            # info and determine the next step size.\n",
    "            t.append( t[-1] + h );\n",
    "            steps.append( h );\n",
    "            y.append( YFE )\n",
    "        hnew = h * np.sqrt(0.9*ETOL/err);\n",
    "        # Make sure h doesn't more than double\n",
    "        if hnew >= 2*h:\n",
    "            hnew = 2*h;\n",
    "        h = hnew;\n",
    "\n",
    "\n",
    "    t = np.array(t)\n",
    "    y = np.array(y).T\n",
    "    steps = np.array(steps)\n",
    "    return (t,y,steps)\n"
   ],
   "metadata": {
    "collapsed": false
   }
  },
  {
   "cell_type": "markdown",
   "metadata": {},
   "source": [
    "# Testing:\n",
    "\n",
    "## Accuracy Testing:\n",
    "\n",
    "### Model 1:"
   ]
  },
  {
   "cell_type": "code",
   "execution_count": 8,
   "metadata": {},
   "outputs": [
    {
     "ename": "TypeError",
     "evalue": "forwardEuler() missing 4 required positional arguments: 'fn', 't', 'y0', and 'params'",
     "output_type": "error",
     "traceback": [
      "\u001B[0;31m---------------------------------------------------------------------------\u001B[0m",
      "\u001B[0;31mTypeError\u001B[0m                                 Traceback (most recent call last)",
      "Cell \u001B[0;32mIn[8], line 9\u001B[0m\n\u001B[1;32m      7\u001B[0m params \u001B[38;5;241m=\u001B[39m (\u001B[38;5;241m0.1\u001B[39m,\u001B[38;5;241m0.2\u001B[39m) \u001B[38;5;66;03m# parameters alpha = 0.1 and beta = 0.2\u001B[39;00m\n\u001B[1;32m      8\u001B[0m t \u001B[38;5;241m=\u001B[39m np\u001B[38;5;241m.\u001B[39marange(\u001B[38;5;241m0\u001B[39m,\u001B[38;5;241m10\u001B[39m,dt)\n\u001B[0;32m----> 9\u001B[0m tru_y_model_1 \u001B[38;5;241m=\u001B[39m scipy\u001B[38;5;241m.\u001B[39mintegrate\u001B[38;5;241m.\u001B[39msolve_ivp(\u001B[43mforwardEuler\u001B[49m\u001B[43m(\u001B[49m\u001B[43m)\u001B[49m)\n\u001B[1;32m     10\u001B[0m (t,y) \u001B[38;5;241m=\u001B[39m forwardEuler( protein_degradation, t, y0\u001B[38;5;241m=\u001B[39my0, params\u001B[38;5;241m=\u001B[39mparams)\n",
      "\u001B[0;31mTypeError\u001B[0m: forwardEuler() missing 4 required positional arguments: 'fn', 't', 'y0', and 'params'"
     ]
    }
   ],
   "source": [
    "import scipy.integrate\n",
    "import matplotlib.pyplot as plt\n",
    "\n",
    "\n",
    "dt = 1 # the change in time each step this will determine the number of steps\n",
    "y0 = np.array((1,1)) # the intial values of protiens y_1 and y_2\n",
    "params = (0.1,0.2) # parameters alpha = 0.1 and beta = 0.2\n",
    "t = np.arange(0,10,dt)\n",
    "tru_y_model_1 = np.exp( -params[0]*t)\n",
    "(t,y) = forwardEuler( protein_degradation, t, y0=y0, params=params)\n"
   ]
  },
  {
   "cell_type": "markdown",
   "metadata": {},
   "source": [
    "## Model 2:\n",
    "The second ODE system is the Lotka-Volterra model of predator-prey populations and their interactions. You can check out the Wikipedia entry to learn more, but what you need to know here is that it is a 2-ODE system and that, with the right parameter values, it leads to oscillations. The ODEs are:\n",
    "\n",
    "\\begin{align*}\n",
    "\\frac{dx}{dt} &= \\alpha x -\\beta x y\\\\\n",
    "\\frac{dy}{dt} &= -\\gamma y + \\delta x y\\\\\n",
    "\\end{align*}\n",
    "\n",
    "where $\\alpha=0.25$, $\\beta=0.01$, $\\gamma=1$, and $\\delta=0.01$."
   ]
  },
  {
   "cell_type": "markdown",
   "metadata": {},
   "source": [
    "Here are the constants for the Lokta-Volterra predator-prey model."
   ]
  },
  {
   "cell_type": "code",
   "execution_count": 5,
   "metadata": {},
   "outputs": [],
   "source": [
    "predator_constants = np.array((0.25,0.01))\n"
   ]
  },
  {
   "cell_type": "markdown",
   "metadata": {},
   "source": [
    "<hr style=\"border:2px solid gray\"> </hr>\n",
    "\n",
    "Acknowledgements\n",
    "\n",
    "*Replace this text with links to external resources and thanks to people you worked with.*"
   ]
  },
  {
   "cell_type": "code",
   "execution_count": null,
   "metadata": {},
   "outputs": [],
   "source": []
  }
 ],
 "metadata": {
  "kernelspec": {
   "display_name": "Python 3 (ipykernel)",
   "language": "python",
   "name": "python3"
  },
  "language_info": {
   "codemirror_mode": {
    "name": "ipython",
    "version": 3
   },
   "file_extension": ".py",
   "mimetype": "text/x-python",
   "name": "python",
   "nbconvert_exporter": "python",
   "pygments_lexer": "ipython3",
   "version": "3.10.8"
  },
  "vscode": {
   "interpreter": {
    "hash": "b0fa6594d8f4cbf19f97940f81e996739fb7646882a419484c72d19e05852a7e"
   }
  }
 },
 "nbformat": 4,
 "nbformat_minor": 4
}
